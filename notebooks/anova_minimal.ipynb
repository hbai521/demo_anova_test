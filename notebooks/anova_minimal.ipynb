import numpy as np, pandas as pd, matplotlib.pyplot as plt
import scipy.stats as stats
import statsmodels.api as sm
from statsmodels.formula.api import ols
from statsmodels.stats.multicomp import pairwise_tukeyhsd


# ---- 1) ENTER YOUR DATA HERE ----
data = {
    "dose": (["A"]*10 + ["B"]*10 + ["C"]*10 + ["D"]*10),
    "value": (
        [1.196, 1.438, 1.375, 1.288, 1.014, 1.391, 1.316, 1.357, 1.424,1.323] +   # Dose A
        [1.096, 1.261, 1.613, 1.46, 1.125, 1.561, 1.134, 0.981, 1.306, 1.417] +   # Dose B
        [1.168, 1.076, 1.088, 0.987, 1.158, 0.905, 1.17, 1.169, 1.136, 1.178] +   # Dose C
        [0.757, 1.269, 1.152, 1.343, 1.152, 0.833, 1.363, 1.018, 1.145, 0.894]     # Dose D
    )
}
df = pd.DataFrame(data)


# ---- 4) ONE-WAY ANOVA ----
model = ols("value ~ C(dose)", data=df).fit()
anova_table = sm.stats.anova_lm(model, typ=2)  # Type II
print("\nANOVA TABLE\n", anova_table)

# ---- 5) TUKEY HSD POST-HOC ----
tukey = pairwise_tukeyhsd(endog=df["value"], groups=df["dose"], alpha=0.05)
print("\nTUKEY HSD RESULTS\n", tukey.summary())
